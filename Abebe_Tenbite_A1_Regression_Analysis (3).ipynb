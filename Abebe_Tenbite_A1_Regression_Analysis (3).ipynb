{
 "cells": [
  {
   "cell_type": "markdown",
   "id": "e9d425a0",
   "metadata": {},
   "source": [
    "<h3>Regression Analysis"
   ]
  },
  {
   "cell_type": "code",
   "execution_count": 312,
   "id": "77d3a936",
   "metadata": {},
   "outputs": [],
   "source": [
    "#Import packages into python \n",
    "import pandas as pd   # data science essentials\n",
    "import matplotlib.pyplot as plt  # essential graphical output\n",
    "import seaborn as sns # enhanced graphical output\n",
    "import numpy as np#importing numpy\n",
    "import sklearn #importing sklearn\n",
    "import statsmodels.formula.api as smf #importing the stats models\n",
    "from sklearn.model_selection import train_test_split # train/test split\n",
    "from sklearn.linear_model import LinearRegression #regression creator\n",
    "\n",
    "# New libraries\n",
    "from sklearn.neighbors import KNeighborsRegressor # KNN Regression importer\n",
    "from sklearn.preprocessing import StandardScaler # standard scaler\n",
    "\n",
    "#specifying the file name onto python \n",
    "file = 'birthweight_low.xlsx'\n",
    "\n",
    "# reading the file into Python\n",
    "birthweight = pd.read_excel(io = file,\n",
    "                            usecols ='A:R')\n",
    "# outputting the dataset\n",
    "#birthweight.head()\n"
   ]
  },
  {
   "cell_type": "markdown",
   "id": "e684a402",
   "metadata": {},
   "source": [
    "<h3>Initial Exploration of the birth-weight dataset "
   ]
  },
  {
   "cell_type": "markdown",
   "id": "328abb14",
   "metadata": {
    "deletable": false,
    "editable": false
   },
   "source": [
    "First it is important to find the number of observations and features that are in this dataset. "
   ]
  },
  {
   "cell_type": "code",
   "execution_count": 313,
   "id": "b01c4823",
   "metadata": {},
   "outputs": [
    {
     "name": "stdout",
     "output_type": "stream",
     "text": [
      "\n",
      "Size of Original Dataset\n",
      "------------------------\n",
      "Observations: 196\n",
      "Features:     18\n",
      "\n"
     ]
    }
   ],
   "source": [
    "# formatting and printing the dimensions of the dataset\n",
    "print(f\"\"\"\n",
    "Size of Original Dataset\n",
    "------------------------\n",
    "Observations: {birthweight.shape[0]}\n",
    "Features:     {birthweight.shape[1]}\n",
    "\"\"\")"
   ]
  },
  {
   "cell_type": "code",
   "execution_count": 314,
   "id": "c66a67d1",
   "metadata": {},
   "outputs": [],
   "source": [
    "# looping to print column names one by one\n",
    "#for column in birthweight:\n",
    "#    print(column)"
   ]
  },
  {
   "cell_type": "code",
   "execution_count": 315,
   "id": "deaa4db0",
   "metadata": {
    "cell_style": "center"
   },
   "outputs": [],
   "source": [
    "# descriptive statistics for numeric data\n",
    "#birthweight.describe(include = 'number').round(2)"
   ]
  },
  {
   "cell_type": "code",
   "execution_count": 316,
   "id": "2b9294bc",
   "metadata": {},
   "outputs": [],
   "source": [
    "#birthweight.info()"
   ]
  },
  {
   "cell_type": "markdown",
   "id": "6a676dea",
   "metadata": {},
   "source": [
    "This dataset contains a mix of data types that are float and int, however, the dataset is mostly integer. Next step is to  analyze this in more detail because it will affect the approach of building a machine learning model and predicting the birth-weight. "
   ]
  },
  {
   "cell_type": "markdown",
   "id": "a97d837d",
   "metadata": {},
   "source": [
    "<h3>Flagging the Missing Values"
   ]
  },
  {
   "cell_type": "markdown",
   "id": "92bd9540",
   "metadata": {},
   "source": [
    "Working with Missing Values "
   ]
  },
  {
   "cell_type": "code",
   "execution_count": 317,
   "id": "5ea60fc6",
   "metadata": {
    "scrolled": true
   },
   "outputs": [
    {
     "data": {
      "text/plain": [
       "mage      0\n",
       "meduc     3\n",
       "monpre    0\n",
       "npvis     3\n",
       "fage      0\n",
       "feduc     7\n",
       "omaps     0\n",
       "fmaps     0\n",
       "cigs      0\n",
       "drink     0\n",
       "male      0\n",
       "mwhte     0\n",
       "mblck     0\n",
       "moth      0\n",
       "fwhte     0\n",
       "fblck     0\n",
       "foth      0\n",
       "bwght     0\n",
       "dtype: int64"
      ]
     },
     "execution_count": 317,
     "metadata": {},
     "output_type": "execute_result"
    }
   ],
   "source": [
    "birthweight.isnull().sum(axis = 0) #this code will print the missing values in each cataegoty"
   ]
  },
  {
   "cell_type": "code",
   "execution_count": 318,
   "id": "80d40680",
   "metadata": {},
   "outputs": [
    {
     "data": {
      "text/plain": [
       "m_meduc    3\n",
       "m_npvis    3\n",
       "m_feduc    7\n",
       "dtype: int64"
      ]
     },
     "execution_count": 318,
     "metadata": {},
     "output_type": "execute_result"
    }
   ],
   "source": [
    "# looping to detect features with missing values\n",
    "for col in birthweight:\n",
    "\n",
    "    # creating columns with 1s if missing and 0 if not\n",
    "    if birthweight[col].isnull().astype(int).sum() > 0:\n",
    "        birthweight['m_'+col] = birthweight[col].isnull().astype(int)\n",
    "\n",
    "\n",
    "# summing the missing value flags to check the results of the loop above\n",
    "birthweight[    ['m_meduc', 'm_npvis','m_feduc']    ].sum(axis = 0)"
   ]
  },
  {
   "cell_type": "markdown",
   "id": "35db8f72",
   "metadata": {},
   "source": [
    "Impute all other missing values in the dataset with zero for their respective columns."
   ]
  },
  {
   "cell_type": "code",
   "execution_count": 319,
   "id": "38606913",
   "metadata": {},
   "outputs": [],
   "source": [
    "# imputing everything else with the mean \n",
    "\n",
    "# meduc\n",
    "fill = 13.91\n",
    "birthweight['meduc'] = birthweight['meduc'].fillna(fill)\n",
    "\n",
    "\n",
    "# npvis \n",
    "fill = 11.60\n",
    "birthweight['npvis'] = birthweight['npvis'].fillna(fill)\n",
    "\n",
    "\n",
    "# feduc\n",
    "fill = 13.85\n",
    "birthweight['feduc'] = birthweight['feduc'].fillna(fill)\n",
    "\n"
   ]
  },
  {
   "cell_type": "raw",
   "id": "cc2d40fa",
   "metadata": {},
   "source": [
    "CONTINUOUS\n",
    "----------\n",
    "bwght\n",
    "mage\n",
    "fage\n",
    "\n",
    "\n",
    "\n",
    "\n",
    "INTERVAL/COUNT\n",
    "--------------\n",
    "monpre\n",
    "npvis\n",
    "feduc\n",
    "meduc\n",
    "cigs\n",
    "drink\n",
    "\n",
    "\n",
    "\n",
    "CATEGORICAL/OTHER\n",
    "-----------------\n",
    "male\n",
    "mwhte\n",
    "mblck\n",
    "moth\n",
    "fblck\n",
    "foth\n"
   ]
  },
  {
   "cell_type": "markdown",
   "id": "647cb9f1",
   "metadata": {},
   "source": [
    "<h4>Histogram to Analyize Y-Variable Distribution\n",
    "    \n",
    "The Y-variable ( bwght ) is an integer as it does not contain decimal places. Birth-weight is initially recorded in grams which is very common. From here this informs that the modeling might be flawed. The prediction made might not be perfect, however, there will be an understanding of which features affect birth weight of a baby. \n",
    "\n",
    "Question: What is the birth-weight of a baby?\n",
    "\n",
    "Response: It depends on the features of the baby."
   ]
  },
  {
   "cell_type": "markdown",
   "id": "dc41b8d4",
   "metadata": {},
   "source": [
    "<h4>The distribution of the birth-weight is negatively skewed. Creating a histogram and adapt the base model using the new variable created from the logarithmic transformation."
   ]
  },
  {
   "cell_type": "code",
   "execution_count": 320,
   "id": "13b76d71",
   "metadata": {
    "cell_style": "split"
   },
   "outputs": [
    {
     "data": {
      "image/png": "[encoded data removed]",
      "text/plain": [
       "<Figure size 432x288 with 1 Axes>"
      ]
     },
     "metadata": {
      "needs_background": "light"
     },
     "output_type": "display_data"
    },
    {
     "data": {
      "image/png": "[encoded data removed]",
      "text/plain": [
       "<Figure size 432x288 with 1 Axes>"
      ]
     },
     "metadata": {
      "needs_background": "light"
     },
     "output_type": "display_data"
    },
    {
     "data": {
      "image/png": "[encoded data removed]",
      "text/plain": [
       "<Figure size 432x288 with 1 Axes>"
      ]
     },
     "metadata": {
      "needs_background": "light"
     },
     "output_type": "display_data"
    }
   ],
   "source": [
    "# log transforming birthweight and saving it to the dataset\n",
    "birthweight['log_bwght'] = np.log10(birthweight['bwght'])\n",
    "# creating a histogram using HISTPLOT\n",
    "sns.histplot(data   = birthweight,\n",
    "             x      = 'log_bwght',\n",
    "             kde    = True)\n",
    "\n",
    "\n",
    "# the title and axis labels\n",
    "plt.title(label   = \"Logarithmic Distribution of Birth-weight\")\n",
    "plt.xlabel(xlabel = \"Birth-weight\") # avoiding using dataset labels\n",
    "plt.ylabel(ylabel = \"Count\")\n",
    "\n",
    "# displaying the histogram\n",
    "plt.show()\n",
    "\n",
    "\n",
    "# log transforming birthweight and saving it to the dataset\n",
    "birthweight['log_mage'] = np.log10(birthweight['mage'])\n",
    "\n",
    "# developing a histogram using HISTPLOT\n",
    "sns.histplot(data   = birthweight,\n",
    "             x      = 'log_mage',\n",
    "             kde    = True)\n",
    "\n",
    "\n",
    "# title and axis labels\n",
    "plt.title(label   = \"Logarithmic Distribution of Fathers's Age\")\n",
    "plt.xlabel(xlabel = \"Log of Mother's Age\") #dataset labels\n",
    "plt.ylabel(ylabel = \"Count\")\n",
    "\n",
    "# displaying the histogram\n",
    "plt.show()\n",
    "\n",
    "# log transforming birthweight and saving it to the dataset\n",
    "birthweight['log_fage'] = np.log10(birthweight['fage'])\n",
    "\n",
    "# developing a histogram using HISTPLOT\n",
    "sns.histplot(data   = birthweight,\n",
    "             x      = 'log_fage',\n",
    "             kde    = True)\n",
    "\n",
    "\n",
    "# title and axis labels\n",
    "plt.title(label   = \"Logarithmic Distribution of Fathers's Age\")\n",
    "plt.xlabel(xlabel = \"Log of Fathers's Age\") #dataset labels\n",
    "plt.ylabel(ylabel = \"Count\")\n",
    "\n",
    "# displaying the histogram\n",
    "plt.show()\n"
   ]
  },
  {
   "cell_type": "code",
   "execution_count": 321,
   "id": "0f0f25d2",
   "metadata": {
    "cell_style": "split"
   },
   "outputs": [
    {
     "data": {
      "image/png": "[encoded data removed]",
      "text/plain": [
       "<Figure size 432x288 with 1 Axes>"
      ]
     },
     "metadata": {
      "needs_background": "light"
     },
     "output_type": "display_data"
    },
    {
     "data": {
      "image/png": "[encoded data removed]",
      "text/plain": [
       "<Figure size 432x288 with 1 Axes>"
      ]
     },
     "metadata": {
      "needs_background": "light"
     },
     "output_type": "display_data"
    },
    {
     "data": {
      "image/png": "[encoded data removed]",
      "text/plain": [
       "<Figure size 432x288 with 1 Axes>"
      ]
     },
     "metadata": {
      "needs_background": "light"
     },
     "output_type": "display_data"
    }
   ],
   "source": [
    "# creating a histogram using HISTPLOT to analyize y-variable \n",
    "sns.histplot(data   = birthweight,\n",
    "             x      = 'bwght',\n",
    "             kde    = True)\n",
    "\n",
    "\n",
    "# title and axis labels\n",
    "plt.title(label   = \"Original Distribution of Birth-weight\")\n",
    "plt.xlabel(xlabel = \"Birth-weight\") # avoiding using dataset labels\n",
    "plt.ylabel(ylabel = \"Count\")\n",
    "\n",
    "# displaying the histogram\n",
    "plt.show()\n",
    "\n",
    "\n",
    "\n",
    "# creating a histogram using HISTPLOT\n",
    "sns.histplot(data   = birthweight,\n",
    "             x      = 'mage',\n",
    "             kde    = True)\n",
    "\n",
    "\n",
    "# title and axis labels\n",
    "plt.title(label   = \"Original Distribution of Mother's Age\")\n",
    "plt.xlabel(xlabel = \"Mothers Age\") # avoiding using dataset labels\n",
    "plt.ylabel(ylabel = \"Count\")\n",
    "\n",
    "# displaying the histogram\n",
    "plt.show()\n",
    "\n",
    "\n",
    "\n",
    "\n",
    "# creating a histogram using HISTPLOT\n",
    "sns.histplot(data   = birthweight,\n",
    "             x      = 'fage',\n",
    "             kde    = True)\n",
    "\n",
    "\n",
    "# title and axis labels\n",
    "plt.title(label   = \"Original Distribution of Fathers Age\")\n",
    "plt.xlabel(xlabel = \"Fathers Age\") #dataset labels\n",
    "plt.ylabel(ylabel = \"Count\")\n",
    "\n",
    "# displaying the histogram\n",
    "plt.show()\n",
    "\n",
    "\n",
    "\n",
    "\n"
   ]
  },
  {
   "cell_type": "code",
   "execution_count": 322,
   "id": "1072e6aa",
   "metadata": {},
   "outputs": [
    {
     "data": {
      "text/plain": [
       "bwght    1.00\n",
       "fage    -0.40\n",
       "mage    -0.46\n",
       "Name: bwght, dtype: float64"
      ]
     },
     "execution_count": 322,
     "metadata": {},
     "output_type": "execute_result"
    }
   ],
   "source": [
    "# creating a list of continuous features (including bwight)\n",
    "continuous_data = ['bwght','mage','fage']\n",
    "\n",
    "\n",
    "# developing a correlation matrix based on continuous features\n",
    "birthweight_corr = birthweight[continuous_data].corr(method = 'pearson')\n",
    "\n",
    "\n",
    "# filtering the results to only show correlations with bwight\n",
    "birthweight_corr.loc[ : , 'bwght'].round(decimals = 2).sort_values(ascending = False)"
   ]
  },
  {
   "cell_type": "markdown",
   "id": "e50a8306",
   "metadata": {},
   "source": [
    "<h3> Feature Engineering - Combining Features <br> "
   ]
  },
  {
   "cell_type": "markdown",
   "id": "14b099bb",
   "metadata": {},
   "source": [
    "Research on women in their pregnancy regarding their number of visits, alcohol and cigarettes use. Research also shows that six different countries show that birth-weight is significantly impacted by the number of prenatal visits that have occurred during pregnancy.\n",
    "\n",
    "Citation \n",
    "Donaldson, P. J., & John O. G. Billy. (1984). The Impact of Prenatal Care on Birth Weight: Evidence from an International Data Set. Medical Care, 22(2), 177–188. http://www.jstor.org/stable/3765091 \n",
    "\n",
    "O'Brien, P. (2007, October 27). Is it all right for women to drink small amounts of alcohol in pregnancy? . US National Library of Medicine  National Institutes of Health. Retrieved November 23, 2021, from https://www.ncbi.nlm.nih.gov/pmc/articles/PMC2043426/. \n",
    "\n",
    "I designed all the features below for the x-variables, however, not all of these will be include on last model. There will be selected when created the different regression models. \n"
   ]
  },
  {
   "cell_type": "code",
   "execution_count": 323,
   "id": "9b12718a",
   "metadata": {},
   "outputs": [],
   "source": [
    "#Feature engineering\n",
    "#New columns based of mothers education and mothers age\n",
    " \n",
    "#Here looking into the prenatal visits and connection with the mothers age and education \n",
    "birthweight['preNatal_age']= birthweight['npvis']+(birthweight['mage']/2) \n",
    "birthweight['preNatal_edu']= birthweight['npvis']+(birthweight['meduc']/2)\n",
    "\n",
    "#Here looking into the monthly prenatal visits and connection with the mothers age and education \n",
    "birthweight['monpre_age']= birthweight['monpre']+(birthweight['mage']/2)\n",
    "birthweight['monpre_edu']= birthweight['monpre']+(birthweight['meduc']/2)\n",
    "\n",
    "#Here looking into the use of drink and cigs and connection with the mothers education \n",
    "birthweight['drink_medu']= birthweight['drink']+(birthweight['meduc']/2)\n",
    "birthweight['cigs_medu']= birthweight['cigs']+(birthweight['meduc']/2)\n",
    "\n"
   ]
  },
  {
   "cell_type": "code",
   "execution_count": 324,
   "id": "e085d306",
   "metadata": {},
   "outputs": [],
   "source": [
    "#Tried Using the base 10 log of number of prenatal visits and mothers age / education \n",
    "birthweight['log_preNatal_age']= np.log10(birthweight['npvis']/birthweight['mage'])\n",
    "birthweight['preNatal_edu']= np.log10(birthweight['npvis']/birthweight['meduc'])\n",
    "\n",
    "#Tried Using the base 10 log of monthly prenatal visits and mothers age / education \n",
    "birthweight['Log_monpre_age']= np.log10(birthweight['monpre']/birthweight['mage'])\n",
    "birthweight['log_monpre_edu']= np.log10(birthweight['monpre']/birthweight['meduc'])\n"
   ]
  },
  {
   "cell_type": "code",
   "execution_count": 325,
   "id": "544aef94",
   "metadata": {},
   "outputs": [
    {
     "data": {
      "text/plain": [
       "Text(0, 0.5, 'Birth-weight')"
      ]
     },
     "execution_count": 325,
     "metadata": {},
     "output_type": "execute_result"
    },
    {
     "data": {
      "image/png": "[encoded data removed]",
      "text/plain": [
       "<Figure size 1080x720 with 1 Axes>"
      ]
     },
     "metadata": {
      "needs_background": "light"
     },
     "output_type": "display_data"
    }
   ],
   "source": [
    "# total education (tried combining to work with the ages of mother and father)\n",
    "birthweight['Total_fmage'] = abs(birthweight['fage'] - (birthweight['mage']))\n",
    "\n",
    "\n",
    "# setting figure size\n",
    "fig, ax = plt.subplots(figsize = (15, 10))\n",
    "\n",
    "\n",
    "# developing a boxplot \n",
    "sns.scatterplot(x    = 'Total_fmage',\n",
    "            y    = 'bwght',\n",
    "            data = birthweight)\n",
    "\n",
    "\n",
    "\n",
    "# titles and labels\n",
    "plt.title(label   = 'Relationship between Father Age and Mothers Age')\n",
    "plt.xlabel(xlabel = 'Total Mothers and Fathers age')\n",
    "plt.ylabel(ylabel = 'Birth-weight')\n",
    "\n",
    "#this will show how the combination of the two ages looks on the scatter plot gragh "
   ]
  },
  {
   "cell_type": "markdown",
   "id": "872e1521",
   "metadata": {},
   "source": [
    "<h3>Training the Testing Data "
   ]
  },
  {
   "cell_type": "code",
   "execution_count": 326,
   "id": "d419df8d",
   "metadata": {
    "scrolled": true
   },
   "outputs": [
    {
     "name": "stdout",
     "output_type": "stream",
     "text": [
      "bwght               1.00\n",
      "log_bwght           0.97\n",
      "log_preNatal_age    0.34\n",
      "omaps               0.25\n",
      "fmaps               0.25\n",
      "Log_monpre_age      0.14\n",
      "mblck               0.13\n",
      "feduc               0.13\n",
      "preNatal_edu        0.12\n",
      "fblck               0.12\n",
      "male                0.11\n",
      "meduc               0.09\n",
      "npvis               0.06\n",
      "m_npvis             0.06\n",
      "monpre_edu          0.02\n",
      "m_feduc            -0.00\n",
      "moth               -0.02\n",
      "fwhte              -0.04\n",
      "monpre             -0.05\n",
      "log_monpre_edu     -0.07\n",
      "foth               -0.08\n",
      "Total_fmage        -0.11\n",
      "mwhte              -0.11\n",
      "m_meduc            -0.13\n",
      "preNatal_age       -0.33\n",
      "log_fage           -0.38\n",
      "fage               -0.40\n",
      "log_mage           -0.42\n",
      "monpre_age         -0.44\n",
      "mage               -0.46\n",
      "cigs_medu          -0.54\n",
      "cigs               -0.57\n",
      "drink_medu         -0.69\n",
      "drink              -0.74\n",
      "Name: bwght, dtype: float64\n"
     ]
    }
   ],
   "source": [
    "# creating a (Pearson) correlation matrix\n",
    "birthweight_corr = birthweight.corr().round(2)\n",
    "\n",
    "\n",
    "# printing (Pearson) correlations with birthweight\n",
    "print(birthweight_corr.loc['bwght'].sort_values(ascending = False))"
   ]
  },
  {
   "cell_type": "code",
   "execution_count": 327,
   "id": "2d705fc8",
   "metadata": {},
   "outputs": [
    {
     "data": {
      "text/html": [
       "<table class=\"simpletable\">\n",
       "<caption>OLS Regression Results</caption>\n",
       "<tr>\n",
       "  <th>Dep. Variable:</th>          <td>bwght</td>      <th>  R-squared:         </th> <td>   0.693</td>\n",
       "</tr>\n",
       "<tr>\n",
       "  <th>Model:</th>                   <td>OLS</td>       <th>  Adj. R-squared:    </th> <td>   0.687</td>\n",
       "</tr>\n",
       "<tr>\n",
       "  <th>Method:</th>             <td>Least Squares</td>  <th>  F-statistic:       </th> <td>   107.8</td>\n",
       "</tr>\n",
       "<tr>\n",
       "  <th>Date:</th>             <td>Wed, 24 Nov 2021</td> <th>  Prob (F-statistic):</th> <td>6.80e-48</td>\n",
       "</tr>\n",
       "<tr>\n",
       "  <th>Time:</th>                 <td>15:17:29</td>     <th>  Log-Likelihood:    </th> <td> -1430.3</td>\n",
       "</tr>\n",
       "<tr>\n",
       "  <th>No. Observations:</th>      <td>   196</td>      <th>  AIC:               </th> <td>   2871.</td>\n",
       "</tr>\n",
       "<tr>\n",
       "  <th>Df Residuals:</th>          <td>   191</td>      <th>  BIC:               </th> <td>   2887.</td>\n",
       "</tr>\n",
       "<tr>\n",
       "  <th>Df Model:</th>              <td>     4</td>      <th>                     </th>     <td> </td>   \n",
       "</tr>\n",
       "<tr>\n",
       "  <th>Covariance Type:</th>      <td>nonrobust</td>    <th>                     </th>     <td> </td>   \n",
       "</tr>\n",
       "</table>\n",
       "<table class=\"simpletable\">\n",
       "<tr>\n",
       "      <td></td>         <th>coef</th>     <th>std err</th>      <th>t</th>      <th>P>|t|</th>  <th>[0.025</th>    <th>0.975]</th>  \n",
       "</tr>\n",
       "<tr>\n",
       "  <th>Intercept</th> <td> 4513.8772</td> <td>  220.025</td> <td>   20.515</td> <td> 0.000</td> <td> 4079.887</td> <td> 4947.868</td>\n",
       "</tr>\n",
       "<tr>\n",
       "  <th>meduc</th>     <td>   25.0738</td> <td>   12.890</td> <td>    1.945</td> <td> 0.053</td> <td>   -0.351</td> <td>   50.499</td>\n",
       "</tr>\n",
       "<tr>\n",
       "  <th>fage</th>      <td>  -11.8468</td> <td>    3.032</td> <td>   -3.907</td> <td> 0.000</td> <td>  -17.828</td> <td>   -5.866</td>\n",
       "</tr>\n",
       "<tr>\n",
       "  <th>cigs</th>      <td>  -37.1963</td> <td>    4.608</td> <td>   -8.072</td> <td> 0.000</td> <td>  -46.286</td> <td>  -28.107</td>\n",
       "</tr>\n",
       "<tr>\n",
       "  <th>drink</th>     <td> -121.6462</td> <td>    9.588</td> <td>  -12.688</td> <td> 0.000</td> <td> -140.557</td> <td> -102.735</td>\n",
       "</tr>\n",
       "</table>\n",
       "<table class=\"simpletable\">\n",
       "<tr>\n",
       "  <th>Omnibus:</th>       <td> 8.592</td> <th>  Durbin-Watson:     </th> <td>   1.287</td>\n",
       "</tr>\n",
       "<tr>\n",
       "  <th>Prob(Omnibus):</th> <td> 0.014</td> <th>  Jarque-Bera (JB):  </th> <td>  15.432</td>\n",
       "</tr>\n",
       "<tr>\n",
       "  <th>Skew:</th>          <td>-0.133</td> <th>  Prob(JB):          </th> <td>0.000446</td>\n",
       "</tr>\n",
       "<tr>\n",
       "  <th>Kurtosis:</th>      <td> 4.349</td> <th>  Cond. No.          </th> <td>    377.</td>\n",
       "</tr>\n",
       "</table><br/><br/>Notes:<br/>[1] Standard Errors assume that the covariance matrix of the errors is correctly specified."
      ],
      "text/plain": [
       "<class 'statsmodels.iolib.summary.Summary'>\n",
       "\"\"\"\n",
       "                            OLS Regression Results                            \n",
       "==============================================================================\n",
       "Dep. Variable:                  bwght   R-squared:                       0.693\n",
       "Model:                            OLS   Adj. R-squared:                  0.687\n",
       "Method:                 Least Squares   F-statistic:                     107.8\n",
       "Date:                Wed, 24 Nov 2021   Prob (F-statistic):           6.80e-48\n",
       "Time:                        15:17:29   Log-Likelihood:                -1430.3\n",
       "No. Observations:                 196   AIC:                             2871.\n",
       "Df Residuals:                     191   BIC:                             2887.\n",
       "Df Model:                           4                                         \n",
       "Covariance Type:            nonrobust                                         \n",
       "==============================================================================\n",
       "                 coef    std err          t      P>|t|      [0.025      0.975]\n",
       "------------------------------------------------------------------------------\n",
       "Intercept   4513.8772    220.025     20.515      0.000    4079.887    4947.868\n",
       "meduc         25.0738     12.890      1.945      0.053      -0.351      50.499\n",
       "fage         -11.8468      3.032     -3.907      0.000     -17.828      -5.866\n",
       "cigs         -37.1963      4.608     -8.072      0.000     -46.286     -28.107\n",
       "drink       -121.6462      9.588    -12.688      0.000    -140.557    -102.735\n",
       "==============================================================================\n",
       "Omnibus:                        8.592   Durbin-Watson:                   1.287\n",
       "Prob(Omnibus):                  0.014   Jarque-Bera (JB):               15.432\n",
       "Skew:                          -0.133   Prob(JB):                     0.000446\n",
       "Kurtosis:                       4.349   Cond. No.                         377.\n",
       "==============================================================================\n",
       "\n",
       "Notes:\n",
       "[1] Standard Errors assume that the covariance matrix of the errors is correctly specified.\n",
       "\"\"\""
      ]
     },
     "execution_count": 327,
     "metadata": {},
     "output_type": "execute_result"
    }
   ],
   "source": [
    "# building a full model to identify the siginificant variables \n",
    "\n",
    "# blueprinting a model type\n",
    "lm_full = smf.ols(formula = \"\"\" bwght ~                                             \n",
    "meduc+\n",
    "fage+\n",
    "cigs+\n",
    "drink\n",
    "\"\"\",\n",
    "                                data = birthweight)\n",
    "\n",
    "\n",
    "# telling Python to run the data through the blueprint\n",
    "results_full = lm_full.fit()\n",
    "\n",
    "\n",
    "# printing the results\n",
    "results_full.summary()"
   ]
  },
  {
   "cell_type": "code",
   "execution_count": 328,
   "id": "8da0444e",
   "metadata": {},
   "outputs": [],
   "source": [
    "#X variable for regression\n",
    "x_variables = ['meduc','fage','cigs','drink']\n",
    "\n",
    "\n",
    "# Preparing a DataFrame based the the analysis above\n",
    "data   = birthweight.loc[ : , x_variables]\n",
    "\n",
    "\n",
    "# Preparing the target variable\n",
    "target = birthweight.loc[ : , 'bwght']\n",
    "\n",
    "\n",
    "###############################################\n",
    "## setting up more than one train-test split ##\n",
    "###############################################\n",
    "# FULL X-dataset (normal Y)\n",
    "x_train_FULL, x_test_FULL, y_train_FULL, y_test_FULL = train_test_split(\n",
    "            data,     # x-variables\n",
    "            target,   # y-variable\n",
    "            test_size = 0.25,\n",
    "            random_state = 219)\n",
    "\n",
    "\n",
    "# OLS p-value x-dataset (normal Y)\n",
    "x_train_OLS, x_test_OLS, y_train_OLS, y_test_OLS = train_test_split(\n",
    "            data,         # x-variables\n",
    "            target,   # y-variable\n",
    "            test_size = 0.25,\n",
    "            random_state = 219)"
   ]
  },
  {
   "cell_type": "markdown",
   "id": "16718ed2",
   "metadata": {},
   "source": [
    "<h4>OLS Regression Model"
   ]
  },
  {
   "cell_type": "code",
   "execution_count": 329,
   "id": "bfd6fde6",
   "metadata": {},
   "outputs": [
    {
     "name": "stdout",
     "output_type": "stream",
     "text": [
      "OLS Training Score : 0.685\n",
      "OLS Testing Score  : 0.7133\n",
      "OLS Train-Test Gap : 0.0283\n"
     ]
    }
   ],
   "source": [
    "# INSTANTIATING a model object\n",
    "lr = LinearRegression()\n",
    "\n",
    "\n",
    "# FITTING to the training data\n",
    "lr_fit = lr.fit(x_train_OLS, y_train_OLS)\n",
    "\n",
    "\n",
    "# PREDICTING on new data\n",
    "lr_pred = lr_fit.predict(x_test_OLS)\n",
    "\n",
    "\n",
    "# SCORING the results\n",
    "print('OLS Training Score :', lr.score(x_train_OLS, y_train_OLS).round(4))\n",
    "print('OLS Testing Score  :', lr.score(x_test_OLS, y_test_OLS).round(4))\n",
    "\n",
    "\n",
    "# saving scoring data for future use\n",
    "lr_train_score = lr.score(x_train_OLS, y_train_OLS).round(4) # using R-square\n",
    "lr_test_score  = lr.score(x_test_OLS, y_test_OLS).round(4)   # using R-square\n",
    "\n",
    "\n",
    "# displaying and saving the gap between training and testing\n",
    "print('OLS Train-Test Gap :', abs(lr_train_score - lr_test_score).round(4))\n",
    "lr_test_gap = abs(lr_train_score - lr_test_score).round(4)"
   ]
  },
  {
   "cell_type": "markdown",
   "id": "fc04c3d4",
   "metadata": {},
   "source": [
    "<h4>Lasso Regression Model"
   ]
  },
  {
   "cell_type": "code",
   "execution_count": 330,
   "id": "b737305d",
   "metadata": {},
   "outputs": [
    {
     "name": "stdout",
     "output_type": "stream",
     "text": [
      "Lasso Training Score : 0.684\n",
      "Lasso Testing Score  : 0.7208\n",
      "Lasso Train-Test Gap : 0.0368\n"
     ]
    }
   ],
   "source": [
    "# INSTANTIATING a model object\n",
    "lasso_model = sklearn.linear_model.Lasso(alpha     = 1.0,  # default shrinkage\n",
    "                                         normalize = True) # default magitude\n",
    "\n",
    "\n",
    "# FITTING to the training data\n",
    "lasso_fit = lasso_model.fit(x_train_OLS, y_train_OLS)\n",
    "\n",
    "\n",
    "# PREDICTING on new data\n",
    "lasso_pred = lasso_fit.predict(x_test_OLS)\n",
    "\n",
    "\n",
    "# SCORING the results\n",
    "print('Lasso Training Score :', lasso_model.score(x_train_OLS, y_train_OLS).round(4))\n",
    "print('Lasso Testing Score  :', lasso_model.score(x_test_OLS, y_test_OLS).round(4))\n",
    "\n",
    "\n",
    "## the following code has been provided for you ##\n",
    "\n",
    "# saving scoring data for future use\n",
    "lasso_train_score = lasso_model.score(x_train_OLS, y_train_OLS).round(4) # using R-square\n",
    "lasso_test_score  = lasso_model.score(x_test_OLS, y_test_OLS).round(4)   # using R-square\n",
    "\n",
    "\n",
    "# displaying and saving the gap between training and testing\n",
    "print('Lasso Train-Test Gap :', abs(lasso_train_score - lasso_test_score).round(4))\n",
    "lasso_test_gap = abs(lasso_train_score - lasso_test_score).round(4)"
   ]
  },
  {
   "cell_type": "markdown",
   "id": "6cce274a",
   "metadata": {},
   "source": [
    "<h4>ARD Regression Model"
   ]
  },
  {
   "cell_type": "code",
   "execution_count": 331,
   "id": "67035eda",
   "metadata": {},
   "outputs": [
    {
     "name": "stdout",
     "output_type": "stream",
     "text": [
      "Training Score: 0.6843\n",
      "Testing Score : 0.7215\n",
      "ARD Train-Test Gap : 0.0372\n"
     ]
    }
   ],
   "source": [
    "# INSTANTIATING a model object\n",
    "ard_model = sklearn.linear_model.ARDRegression(normalize  = False)\n",
    "\n",
    "\n",
    "# FITTING the training data\n",
    "ard_fit = ard_model.fit(x_train_OLS, y_train_OLS)\n",
    "\n",
    "\n",
    "# PREDICTING on new data\n",
    "ard_pred = ard_fit.predict(x_test_OLS)\n",
    "\n",
    "\n",
    "print('Training Score:', ard_model.score(x_train_OLS, y_train_OLS).round(4))\n",
    "print('Testing Score :',  ard_model.score(x_test_OLS, y_test_OLS).round(4))\n",
    "\n",
    "\n",
    "# saving scoring data for future use\n",
    "ard_train_score = ard_model.score(x_train_OLS, y_train_OLS).round(4)\n",
    "ard_test_score  = ard_model.score(x_test_OLS, y_test_OLS).round(4)\n",
    "\n",
    "\n",
    "# displaying and saving the gap between training and testing\n",
    "print('ARD Train-Test Gap :', abs(ard_train_score - ard_test_score).round(4))\n",
    "ard_test_gap = abs(ard_train_score - ard_test_score).round(4)"
   ]
  },
  {
   "cell_type": "markdown",
   "id": "5213d5b9",
   "metadata": {},
   "source": [
    "<h4>KNN Regression Model"
   ]
  },
  {
   "cell_type": "code",
   "execution_count": 332,
   "id": "19f243a5",
   "metadata": {},
   "outputs": [],
   "source": [
    "# INSTANTIATING a StandardScaler() object\n",
    "scaler = StandardScaler()\n",
    "\n",
    "\n",
    "# FITTING the scaler with the data\n",
    "scaler.fit(birthweight)\n",
    "\n",
    "\n",
    "# TRANSFORMING our data after fit\n",
    "x_scaled = scaler.transform(birthweight)\n",
    "\n",
    "\n",
    "# converting scaled data into a DataFrame\n",
    "x_scaled_df = pd.DataFrame(x_scaled)\n"
   ]
  },
  {
   "cell_type": "code",
   "execution_count": 333,
   "id": "8ab75b19",
   "metadata": {},
   "outputs": [],
   "source": [
    "# creating lists for training set accuracy and test set accuracy\n",
    "training_accuracy = []\n",
    "test_accuracy     = []\n",
    "\n",
    "\n",
    "# building a visualization of 1 to 50 neighbors\n",
    "neighbors_settings = range(1, 51)\n",
    "\n",
    "\n",
    "for n_neighbors in neighbors_settings:\n",
    "    # Building the model\n",
    "    clf = KNeighborsRegressor(n_neighbors = n_neighbors)\n",
    "    clf.fit(x_train_OLS, y_train_OLS)\n",
    "    \n",
    "    # Recording the training set accuracy\n",
    "    training_accuracy.append(clf.score(x_train_OLS, y_train_OLS))\n",
    "    \n",
    "    # Recording the generalization accuracy\n",
    "    test_accuracy.append(clf.score(x_test_OLS, y_test_OLS))\n"
   ]
  },
  {
   "cell_type": "code",
   "execution_count": 334,
   "id": "02ef172b",
   "metadata": {},
   "outputs": [
    {
     "name": "stdout",
     "output_type": "stream",
     "text": [
      "The optimal number of neighbors is 7\n"
     ]
    }
   ],
   "source": [
    "#finding the number of neighbors \n",
    "opt_neighbors = test_accuracy.index(max(test_accuracy)) + 1\n",
    "print(f\"\"\"The optimal number of neighbors is {opt_neighbors}\"\"\")"
   ]
  },
  {
   "cell_type": "code",
   "execution_count": 335,
   "id": "3160ef32",
   "metadata": {},
   "outputs": [
    {
     "name": "stdout",
     "output_type": "stream",
     "text": [
      "KNN Training Score: 0.675\n",
      "KNN Testing Score : 0.6096\n",
      "KNN Train-Test Gap: 0.0654\n"
     ]
    }
   ],
   "source": [
    "# installing a KNN model object\n",
    "knn_reg = KNeighborsRegressor(algorithm = 'auto',\n",
    "                              n_neighbors = 7)\n",
    "\n",
    "\n",
    "# fitting to the training data\n",
    "knn_fit = knn_reg.fit(x_train_OLS, y_train_OLS)\n",
    "\n",
    "\n",
    "# predicting on new data\n",
    "knn_reg_pred = knn_fit.predict(x_test_OLS)\n",
    "\n",
    "\n",
    "# SCORING the results\n",
    "print('KNN Training Score:', knn_reg.score(x_train_OLS, y_train_OLS).round(4))\n",
    "print('KNN Testing Score :',  knn_reg.score(x_test_OLS, y_test_OLS).round(4))\n",
    "\n",
    "\n",
    "# saving scoring data for future use\n",
    "knn_reg_score_train = knn_reg.score(x_train_OLS, y_train_OLS).round(4)\n",
    "knn_reg_score_test  = knn_reg.score(x_test_OLS, y_test_OLS).round(4)\n",
    "\n",
    "\n",
    "# Displaying and saving the gap between training and testing\n",
    "print('KNN Train-Test Gap:', abs(knn_reg_score_train - knn_reg_score_test).round(4))\n",
    "knn_reg_test_gap = abs(knn_reg_score_train - knn_reg_score_test).round(4)"
   ]
  },
  {
   "cell_type": "markdown",
   "id": "9ba92bf1",
   "metadata": {},
   "source": [
    "<h4>Final Regression Scores for comparison "
   ]
  },
  {
   "cell_type": "code",
   "execution_count": 336,
   "id": "1d015c4b",
   "metadata": {},
   "outputs": [
    {
     "name": "stdout",
     "output_type": "stream",
     "text": [
      "\n",
      "Model      Train Score      Test Score     Test Gap \n",
      "-----      -----------      ----------     ----------\n",
      "OLS        0.685          0.7133            0.0283\n",
      "Lasso      0.684          0.7208            0.0368\n",
      "* ARD      0.6843         0.7215            0.0372\n",
      "KNN        0.675          0.6096            0.0654\n",
      "\n",
      "\n"
     ]
    }
   ],
   "source": [
    "# comparing results\n",
    "print(f\"\"\"\n",
    "Model      Train Score      Test Score     Test Gap \n",
    "-----      -----------      ----------     ----------\n",
    "OLS        {lr_train_score}          {lr_test_score}            {lr_test_gap}\n",
    "Lasso      {lasso_train_score}          {lasso_test_score}            {lasso_test_gap}\n",
    "* ARD      {ard_train_score}         {ard_test_score}            {ard_test_gap}\n",
    "KNN        {knn_reg_score_train}          {knn_reg_score_test}            {knn_reg_test_gap}\n",
    "\n",
    "\"\"\")\n"
   ]
  },
  {
   "cell_type": "markdown",
   "id": "119e6389",
   "metadata": {},
   "source": [
    "* Final Model "
   ]
  }
 ],
 "metadata": {
  "kernelspec": {
   "display_name": "Python 3",
   "language": "python",
   "name": "python3"
  },
  "language_info": {
   "codemirror_mode": {
    "name": "ipython",
    "version": 3
   },
   "file_extension": ".py",
   "mimetype": "text/x-python",
   "name": "python",
   "nbconvert_exporter": "python",
   "pygments_lexer": "ipython3",
   "version": "3.8.8"
  },
  "toc": {
   "base_numbering": 1,
   "nav_menu": {},
   "number_sections": true,
   "sideBar": true,
   "skip_h1_title": false,
   "title_cell": "Table of Contents",
   "title_sidebar": "Contents",
   "toc_cell": false,
   "toc_position": {},
   "toc_section_display": true,
   "toc_window_display": false
  },
  "varInspector": {
   "cols": {
    "lenName": 16,
    "lenType": 16,
    "lenVar": 40
   },
   "kernels_config": {
    "python": {
     "delete_cmd_postfix": "",
     "delete_cmd_prefix": "del ",
     "library": "var_list.py",
     "varRefreshCmd": "print(var_dic_list())"
    },
    "r": {
     "delete_cmd_postfix": ") ",
     "delete_cmd_prefix": "rm(",
     "library": "var_list.r",
     "varRefreshCmd": "cat(var_dic_list()) "
    }
   },
   "types_to_exclude": [
    "module",
    "function",
    "builtin_function_or_method",
    "instance",
    "_Feature"
   ],
   "window_display": false
  }
 },
 "nbformat": 4,
 "nbformat_minor": 5
}
